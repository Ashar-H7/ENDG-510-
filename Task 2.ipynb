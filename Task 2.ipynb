{
 "cells": [
  {
   "cell_type": "code",
   "execution_count": null,
   "metadata": {},
   "outputs": [],
   "source": [
    "#load class\n",
    "import numpy as np\n",
    "import pandas as pd # in case it's not installed then install using conda create\n",
    "# -c conda-forge -n name_of_my_env python pandas\n",
    "# more installations information can be found:\n",
    "#https://pandas.pydata.org/docs/getting_started/install.html\n",
    "import os\n",
    "#load sklearn module for creating and evaluating ML models. In case sklearn isn't\n",
    "#installed,\n",
    "#follow this link https://scikit-learn.org/stable/install.html for further details\n",
    "#on the installation process.\n",
    "from sklearn.neighbors import KNeighborsClassifier #load your classifier. In this\n",
    "#code, I have used KNN. You can choose other algorithms. You have to use at least\n",
    "#3 to complete this.\n",
    "from sklearn.preprocessing import StandardScaler #module for perform scaling\n",
    "\n",
    "from sklearn.model_selection import train_test_split #module for splitting\n",
    "#datatset\n",
    "from sklearn import metrics #module for evaluating performance\n",
    "\n",
    "#load your data\n",
    "df = pd.read_csv(\"data.csv\") #change the name accordingly\n",
    "df.head() # prints top 5 rows from the datatset to check data is load or not\n",
    "\n",
    "# Check for missing values\n",
    "missing_values = df.isnull().sum()\n",
    "print(\"Missing Values:\\n\", missing_values)\n",
    "\n",
    "# remove duplicatesd\n",
    "df = df.drop_duplicates()\n",
    "\n",
    "# prepare features\n",
    "x = df.drop(['Label'],axis=1) #remove class or label\n",
    "y = df['Label'] #load label\n",
    "\n",
    "x_train,x_test,y_train,y_test = train_test_split(x,y,test_size=.2) #split\n",
    "# datatset. Here ratio is 80:20. Change accordingly\n",
    "\n",
    "# Scale the data using standardization\n",
    "scaler = StandardScaler()\n",
    "x_train = scaler.fit_transform(x_train) #scale training set\n",
    "x_test = scaler.transform(x_test) #scale test set\n",
    "\n",
    "z = KNeighborsClassifier(n_neighbors=3) # KNN classifier for 3 neighbours\n",
    "KNN = z.fit(x_train,y_train) # start training\n",
    "predict = KNN.predict(x_test) # performance in the test set\n",
    "\n",
    "print(\"Accuracy:\", metrics.accuracy_score(y_test,predict)) # evaluating the\n",
    "# performance based on accuracy\n",
    "\n",
    "# library for save and load scikit-learn models\n",
    "import pickle\n",
    "# file name, recommending *.pickle as a file extension\n",
    "filename = \"model.pickle\"\n",
    "# save model\n",
    "pickle.dump(z, open(filename, \"wb\"))"
   ]
  },
  {
   "cell_type": "markdown",
   "metadata": {},
   "source": []
  },
  {
   "cell_type": "code",
   "execution_count": 1,
   "metadata": {},
   "outputs": [],
   "source": [
    "#load class\n",
    "import numpy as np\n",
    "import pandas as pd # in case it's not installed then install using conda create\n",
    "# -c conda-forge -n name_of_my_env python pandas\n",
    "# more installations information can be found:\n",
    "#https://pandas.pydata.org/docs/getting_started/install.html\n",
    "import os\n",
    "#load sklearn module for creating and evaluating ML models. In case sklearn isn't\n",
    "#installed,\n",
    "#follow this link https://scikit-learn.org/stable/install.html for further details\n",
    "#on the installation process.\n",
    "from sklearn.neighbors import KNeighborsClassifier #load your classifier. In this\n",
    "#code, I have used KNN. You can choose other algorithms. You have to use at least\n",
    "#3 to complete this.\n",
    "from sklearn.preprocessing import StandardScaler #module for perform scaling\n",
    "\n",
    "from sklearn.model_selection import train_test_split #module for splitting\n",
    "#datatset\n",
    "from sklearn import metrics #module for evaluating performance"
   ]
  },
  {
   "cell_type": "code",
   "execution_count": 2,
   "metadata": {},
   "outputs": [
    {
     "data": {
      "text/html": [
       "<div>\n",
       "<style scoped>\n",
       "    .dataframe tbody tr th:only-of-type {\n",
       "        vertical-align: middle;\n",
       "    }\n",
       "\n",
       "    .dataframe tbody tr th {\n",
       "        vertical-align: top;\n",
       "    }\n",
       "\n",
       "    .dataframe thead th {\n",
       "        text-align: right;\n",
       "    }\n",
       "</style>\n",
       "<table border=\"1\" class=\"dataframe\">\n",
       "  <thead>\n",
       "    <tr style=\"text-align: right;\">\n",
       "      <th></th>\n",
       "      <th>Temp</th>\n",
       "      <th>Humd</th>\n",
       "      <th>Label</th>\n",
       "    </tr>\n",
       "  </thead>\n",
       "  <tbody>\n",
       "    <tr>\n",
       "      <th>0</th>\n",
       "      <td>34</td>\n",
       "      <td>57</td>\n",
       "      <td>1</td>\n",
       "    </tr>\n",
       "    <tr>\n",
       "      <th>1</th>\n",
       "      <td>34</td>\n",
       "      <td>56</td>\n",
       "      <td>1</td>\n",
       "    </tr>\n",
       "    <tr>\n",
       "      <th>2</th>\n",
       "      <td>34</td>\n",
       "      <td>55</td>\n",
       "      <td>1</td>\n",
       "    </tr>\n",
       "    <tr>\n",
       "      <th>3</th>\n",
       "      <td>34</td>\n",
       "      <td>55</td>\n",
       "      <td>1</td>\n",
       "    </tr>\n",
       "    <tr>\n",
       "      <th>4</th>\n",
       "      <td>34</td>\n",
       "      <td>54</td>\n",
       "      <td>1</td>\n",
       "    </tr>\n",
       "  </tbody>\n",
       "</table>\n",
       "</div>"
      ],
      "text/plain": [
       "   Temp  Humd  Label\n",
       "0    34    57      1\n",
       "1    34    56      1\n",
       "2    34    55      1\n",
       "3    34    55      1\n",
       "4    34    54      1"
      ]
     },
     "execution_count": 2,
     "metadata": {},
     "output_type": "execute_result"
    }
   ],
   "source": [
    "#load your data\n",
    "df = pd.read_csv(\"data1.csv\") #change the name accordingly\n",
    "df.head() # prints top 5 rows from the datatset to check data is load or not"
   ]
  },
  {
   "cell_type": "code",
   "execution_count": 3,
   "metadata": {},
   "outputs": [
    {
     "name": "stdout",
     "output_type": "stream",
     "text": [
      "Missing Values:\n",
      " Temp     0\n",
      "Humd     0\n",
      "Label    0\n",
      "dtype: int64\n"
     ]
    }
   ],
   "source": [
    "# Check for missing values\n",
    "missing_values = df.isnull().sum()\n",
    "print(\"Missing Values:\\n\", missing_values)\n"
   ]
  },
  {
   "cell_type": "code",
   "execution_count": 4,
   "metadata": {},
   "outputs": [],
   "source": [
    "# remove duplicatesd\n",
    "df = df.drop_duplicates()\n"
   ]
  },
  {
   "cell_type": "code",
   "execution_count": 5,
   "metadata": {},
   "outputs": [
    {
     "name": "stdout",
     "output_type": "stream",
     "text": [
      "      Temp  Humd\n",
      "0       34    57\n",
      "1       34    56\n",
      "2       34    55\n",
      "4       34    54\n",
      "5       34    53\n",
      "...    ...   ...\n",
      "996     85   186\n",
      "997    249   126\n",
      "998    326   179\n",
      "999      3    42\n",
      "1000    48   161\n",
      "\n",
      "[578 rows x 2 columns]\n",
      "0       1\n",
      "1       1\n",
      "2       1\n",
      "4       1\n",
      "5       1\n",
      "       ..\n",
      "996     0\n",
      "997     0\n",
      "998     0\n",
      "999     0\n",
      "1000    0\n",
      "Name: Label, Length: 578, dtype: int64\n"
     ]
    }
   ],
   "source": [
    "# prepare features\n",
    "x = df.drop(['Label'],axis=1) #remove class or label\n",
    "y = df['Label'] #load label\n",
    "print(x)\n",
    "print(y)\n"
   ]
  },
  {
   "cell_type": "code",
   "execution_count": 50,
   "metadata": {},
   "outputs": [],
   "source": [
    "x_train,x_test,y_train,y_test = train_test_split(x,y,test_size=.2) #split\n",
    "#datatset. Here ratio is 80:20. Change accordingly\n"
   ]
  },
  {
   "cell_type": "code",
   "execution_count": 51,
   "metadata": {},
   "outputs": [],
   "source": [
    "# Scale the data using standardization\n",
    "scaler = StandardScaler()\n",
    "x_train = scaler.fit_transform(x_train) #scale training set\n",
    "x_test = scaler.transform(x_test) #scale test set\n"
   ]
  },
  {
   "cell_type": "code",
   "execution_count": 52,
   "metadata": {},
   "outputs": [],
   "source": [
    "z = KNeighborsClassifier(n_neighbors=3) # KNN classifier for 3 neighbours\n",
    "KNN = z.fit(x_train,y_train) # start training\n",
    "predict = KNN.predict(x_test) # performance in the test set\n"
   ]
  },
  {
   "cell_type": "code",
   "execution_count": 53,
   "metadata": {},
   "outputs": [
    {
     "name": "stdout",
     "output_type": "stream",
     "text": [
      "Accuracy: 0.9827586206896551\n"
     ]
    }
   ],
   "source": [
    "print(\"Accuracy:\", metrics.accuracy_score(y_test,predict)) # evaluating the\n",
    "# performance based on accuracy\n"
   ]
  },
  {
   "cell_type": "code",
   "execution_count": null,
   "metadata": {},
   "outputs": [],
   "source": []
  },
  {
   "cell_type": "code",
   "execution_count": 6,
   "metadata": {},
   "outputs": [],
   "source": [
    "x_train,x_test,y_train,y_test = train_test_split(x,y,test_size=.2) #split\n",
    "#datatset. Here ratio is 80:20. Change accordingly"
   ]
  },
  {
   "cell_type": "code",
   "execution_count": 7,
   "metadata": {},
   "outputs": [],
   "source": [
    "# Scale the data using standardization\n",
    "scaler = StandardScaler()\n",
    "x_train = scaler.fit_transform(x_train) #scale training set\n",
    "x_test = scaler.transform(x_test) #scale test set"
   ]
  },
  {
   "cell_type": "code",
   "execution_count": 8,
   "metadata": {},
   "outputs": [],
   "source": [
    "from sklearn.naive_bayes import GaussianNB\n",
    "\n",
    "#gnb = GaussianNB()\n",
    "#y_pred = gnb.fit(x_train, y_train)\n",
    "#y_pred = y_pred.predict(x_test)\n",
    "from sklearn.tree import DecisionTreeClassifier\n",
    "clf = DecisionTreeClassifier(random_state=0)\n",
    "y_pred = clf.fit(x_train, y_train)\n",
    "y_pred = y_pred.predict(x_test)"
   ]
  },
  {
   "cell_type": "code",
   "execution_count": 11,
   "metadata": {},
   "outputs": [
    {
     "name": "stdout",
     "output_type": "stream",
     "text": [
      "Accuracy: 1.0\n",
      "[0 0 1 1 0 0 0 0 0 0 0 0 0 0 0 0 0 1 0 1 0 1 0 0 0 0 0 0 0 0 0 0 0 0 0 0 0\n",
      " 0 0 0 0 1 0 0 0 0 0 0 0 0 0 0 0 0 0 0 0 0 0 1 0 1 0 0 1 0 0 1 0 0 0 0 0 0\n",
      " 0 0 0 0 0 0 0 0 0 0 0 0 0 0 0 0 0 0 0 0 0 1 0 0 0 0 0 0 0 0 0 0 0 0 0 0 0\n",
      " 0 0 0 0 1]\n",
      "535    0\n",
      "972    0\n",
      "107    1\n",
      "38     1\n",
      "639    0\n",
      "      ..\n",
      "789    0\n",
      "871    0\n",
      "780    0\n",
      "959    0\n",
      "381    1\n",
      "Name: Label, Length: 116, dtype: int64\n"
     ]
    }
   ],
   "source": [
    "print(\"Accuracy:\", metrics.accuracy_score(y_test,y_pred)) # evaluating the\n",
    "# performance based on accuracy\n",
    "print(y_pred)\n",
    "print(y_test)"
   ]
  }
 ],
 "metadata": {
  "kernelspec": {
   "display_name": "base",
   "language": "python",
   "name": "python3"
  },
  "language_info": {
   "codemirror_mode": {
    "name": "ipython",
    "version": 3
   },
   "file_extension": ".py",
   "mimetype": "text/x-python",
   "name": "python",
   "nbconvert_exporter": "python",
   "pygments_lexer": "ipython3",
   "version": "3.9.7"
  },
  "orig_nbformat": 4
 },
 "nbformat": 4,
 "nbformat_minor": 2
}
